{
 "cells": [
  {
   "cell_type": "markdown",
   "metadata": {
    "collapsed": true
   },
   "source": [
    "# Sentiment Analysis, Part1:  ETL With PySpark and MongoDB\n",
    "------------------------------------------------\n",
    "\n",
    "## Contents\n",
    "-------------\n",
    "\n",
    "__[1. Introduction](#bullet1)__\n",
    "\n",
    "__[2. ETL With PySpark](#bullet2)__\n",
    "\n",
    "__[3. MongoDB & PyMongo](#bullet6)__\n",
    "\n",
    "__[4. Next Steps](#bullet7)__\n",
    "\n",
    "\n",
    "## Introduction <a class=\"anchor\" id=\"bullet1\"></a>\n",
    "------------\n",
    "\n",
    "I've been itching to learn some more Natural Language Processing and thought I might try my hand at the classic problem of Twitter sentiment analysis.  I found labeled twitter data with 1.6 million tweets on the Kaggle website <a href=\"https://www.kaggle.com/kazanova/sentiment140\">here</a>.  While 1.6 million tweets is not substantial amount of data and does not require working with Spark, I wanted to use <a href=\"https://spark.apache.org/\">Spark</a> for <a href=\"https://en.wikipedia.org/wiki/Extract,_transform,_load\">ETL</a> as well as modeling since I haven't seen too many examples of how to do so in the context of Sentiment Analysis.  In addition, since I was working with text data I thought I would use <a href=\"https://www.mongodb.com/\">MongoDB</a>, since it allows for flexible data models and is very easy to use.  Luckily Spark and MongoDB work well together and I'll show how to work with both later.\n",
    "\n",
    "\n",
    "At first I figured I would make this one blog post, but after getting started I realized it was a substaintial amount of material and therefore would break it into two posts.  This first post covers the topics of ETL working with Spark and MongoDB.  The second post will deal with the actual modeling of sentiment analysis using Spark.  The source code for this post can be found <a href=\"https://github.com/mdh266/SentimentAnalysis/tree/master\">here</a>."
   ]
  },
  {
   "cell_type": "markdown",
   "metadata": {
    "collapsed": true
   },
   "source": [
    "## ETL With PySpark <a class=\"anchor\" id=\"bullet2\"></a>\n",
    "-------\n",
    "\n",
    "<a href=\"https://spark.apache.org\">Spark</a> is a parallel processing framework that has become a defactor standard in data engineering for **extract-transform-load (ETL)** operations.  It has a number of features that make it great for working with large data sets including:\n",
    "\n",
    "- Natural integration with <a href=\"https://hadoop.apache.org/\">Hadoop</a> for working with large distributed datasets\n",
    "- Fault tolerance\n",
    "- Lazy evaluation that allows for behind the scenes optimizations\n",
    "\n",
    "\n",
    "Spark is also great because allows the one to use a signal framework for working with structured and unstructed data, machine learning, graph computations and even streaming.  Some references that I have used for working with Spark in the past include:\n",
    "\n",
    "- <a href=\"https://books.google.com/books?id=tOptBgAAQBAJ&printsec=frontcover&dq=spark+intro&hl=en&sa=X&ved=0ahUKEwi-iNefyMjfAhUDwFkKHby6DNQQ6AEILzAB#v=onepage&q&f=false\">Learning Spark</a>\n",
    "    \n",
    "- <a href=\"https://books.google.com/books?id=NJwnDwAAQBAJ&printsec=frontcover&dq=advanced+analytics+with+spark&hl=en&sa=X&ved=0ahUKEwjdw9qzyMjfAhVN11kKHVNXAooQ6AEILTAA#v=onepage&q=advanced%20analytics%20with%20spark&f=false\">Advanced Analytics with Spark </a>\n",
    "\n",
    "- <a href=\"https://www.analyticsvidhya.com/blog/2016/10/spark-dataframe-and-operations/\">This post</a>\n",
    "\n",
    "- The <a href=\"https://spark.apache.org/docs/latest/\">documentation webpage</a> is pretty extensive as well\n",
    "\n",
    "In this blog post I will **NOT** be covering the basics of Spark, there are plenty of other resources (like those above) that will do that better than I can. Instead, I want to cover the basics of working with Spark for ETL on text data.  I'll explain the steps of ETL I took in detail in this post. While I used a notebook for development, in practice I wrote a Python script that I used to the perform batch analysis.  You can find that script <a href=\"https://github.com/mdh266/SentimentAnalysis/tree/master/ETL\">here</a>.  The script was used to connect to my <a href=\"https://www.mongodb.com/cloud/atlas\">Atlas MongoDB</a>  cluster and I had to change the normalize UDF so that the results are strings instead of arrays of string.  This was necessary so that the resulting collection was within the storage limits of the free tier.\n",
    "\n",
    "Now let's dive into the extract-transform-load operations in Spark and MongodDB!"
   ]
  },
  {
   "cell_type": "markdown",
   "metadata": {},
   "source": [
    "First we download and extract the dataset from the Kaggle website:"
   ]
  },
  {
   "cell_type": "code",
   "execution_count": 1,
   "metadata": {},
   "outputs": [
    {
     "data": {
      "text/plain": [
       "0"
      ]
     },
     "execution_count": 1,
     "metadata": {},
     "output_type": "execute_result"
    }
   ],
   "source": [
    "import os\n",
    "os.system(\"kaggle datasets download -d kazanova/sentiment140\")\n",
    "os.system(\"unzip sentiment140.zip\")"
   ]
  },
  {
   "cell_type": "markdown",
   "metadata": {},
   "source": [
    "Next we import the datatypes that we will need for ETL and the functions module from `spark.sql`"
   ]
  },
  {
   "cell_type": "code",
   "execution_count": 1,
   "metadata": {},
   "outputs": [],
   "source": [
    "from pyspark.sql.types import (IntegerType, StringType, \n",
    "                               TimestampType, StructType,\n",
    "                               StructField, ArrayType,\n",
    "                               TimestampType)\n",
    "\n",
    "import pyspark.sql.functions as F"
   ]
  },
  {
   "cell_type": "markdown",
   "metadata": {},
   "source": [
    "### Extract <a class=\"anchor\" id=\"bullet3\"></a>\n",
    "-----------\n",
    "\n",
    "Now we need to define the schema of the <a href=\"https://www.kaggle.com/kazanova/sentiment140\">CSV file</a> we want to read.  Alternately, we could have Spark infer the schema, however, this would take longer since Spark would have to scan the file twice: once to infer the schema and once to read in the data."
   ]
  },
  {
   "cell_type": "code",
   "execution_count": 2,
   "metadata": {},
   "outputs": [],
   "source": [
    "schema = StructType([StructField(\"target\", StringType()),\n",
    "                   StructField(\"id\", StringType()),\n",
    "                   StructField(\"date\", StringType()),\n",
    "                   StructField(\"flag\", StringType()),\n",
    "                   StructField(\"user\", StringType()),\n",
    "                   StructField(\"text\", StringType())\n",
    "                  ])"
   ]
  },
  {
   "cell_type": "markdown",
   "metadata": {},
   "source": [
    "Now we can define the path to the file, specificy its format, schema and then \"read\" it in as a <a href=\"https://spark.apache.org/docs/latest/sql-programming-guide.html\">Dataframes</a> . Since I am working in <a href=\"https://spark.apache.org/docs/latest/spark-standalone.html\">standalone mode</a> on my local machine I'll use the address of the csv in my local filsystem:"
   ]
  },
  {
   "cell_type": "code",
   "execution_count": 3,
   "metadata": {},
   "outputs": [],
   "source": [
    "path = \"training.1600000.processed.noemoticon.csv\"\n",
    "\n",
    "# read in the csv as a datafame\n",
    "df   = spark.read.format(\"csv\")\\\n",
    "                  .schema(schema)\\\n",
    "                  .load(path)"
   ]
  },
  {
   "cell_type": "markdown",
   "metadata": {},
   "source": [
    "I put read in qoutations since Spark uses a **lazy-evaluation** model for computation. This means that *the csv is not actually read into the **worker nodes** (see <a href=\"https://spark.apache.org/docs/latest/cluster-overview.html\">this</a> for definition) until we perform an action on it*.  An action is any operation that,\n",
    "\n",
    "- writes to disk\n",
    "\n",
    "- brings results back to the **driver** (see <a href=\"https://spark.apache.org/docs/latest/cluster-overview.html\">this</a> for definition), i.e. count, show, collect, toPandas,\n",
    "\n",
    "Even though we have not read in the data, we can still obtain metadata on the dataframe such as its schema:"
   ]
  },
  {
   "cell_type": "code",
   "execution_count": 4,
   "metadata": {},
   "outputs": [
    {
     "name": "stdout",
     "output_type": "stream",
     "text": [
      "root\n",
      " |-- target: string (nullable = true)\n",
      " |-- id: string (nullable = true)\n",
      " |-- date: string (nullable = true)\n",
      " |-- flag: string (nullable = true)\n",
      " |-- user: string (nullable = true)\n",
      " |-- text: string (nullable = true)\n",
      "\n"
     ]
    }
   ],
   "source": [
    "df.printSchema()"
   ]
  },
  {
   "cell_type": "markdown",
   "metadata": {},
   "source": [
    "Let's take a look at the first few rows in our dataframe:"
   ]
  },
  {
   "cell_type": "code",
   "execution_count": 5,
   "metadata": {},
   "outputs": [
    {
     "name": "stdout",
     "output_type": "stream",
     "text": [
      "+------+----------+--------------------+--------+---------------+--------------------+\n",
      "|target|        id|                date|    flag|           user|                text|\n",
      "+------+----------+--------------------+--------+---------------+--------------------+\n",
      "|     0|1467810369|Mon Apr 06 22:19:...|NO_QUERY|_TheSpecialOne_|@switchfoot http:...|\n",
      "|     0|1467810672|Mon Apr 06 22:19:...|NO_QUERY|  scotthamilton|is upset that he ...|\n",
      "|     0|1467810917|Mon Apr 06 22:19:...|NO_QUERY|       mattycus|@Kenichan I dived...|\n",
      "+------+----------+--------------------+--------+---------------+--------------------+\n",
      "only showing top 3 rows\n",
      "\n"
     ]
    }
   ],
   "source": [
    "df.show(3)"
   ]
  },
  {
   "cell_type": "markdown",
   "metadata": {},
   "source": [
    "We can see that the table has a `target` field which is the label of whether the sentiment was positive or negative, an `id` which is a unique number for the tweet, a `date` field, a `flag` field (which we will not use), the `user` field which is the twitter user's handle and the acual tweet which is labeled as `text`.  We'll have to do transformations on all the fields (except `flag` which we will drop) in order to get them into the correct format.  Specifically, we will:\n",
    "\n",
    "1. Extract relevant fields information the `date` field \n",
    "2. Clean and transform the `text` field\n",
    "\n",
    "\n",
    "Transormations in Spark are computed on **worker nodes** (computations in Spark occur where the data is in memory/disk which is the worker nodes) and use lazy evaluation.  The fact transformations are lazy is a very useful aspect of Spark because we can chain transformations together into **Directed Acyclic Graphs (DAG)**. Because the transformations are lazy, Spark can see the entire pipeline of transformations and optimize the execution of operations in the DAG."
   ]
  },
  {
   "cell_type": "markdown",
   "metadata": {},
   "source": [
    "### Transform <a class=\"anchor\" id=\"bullet4\"></a>\n",
    "-------\n",
    "We perform most of our transformations on our Spark dataframes in this post by using **User Defined Functions or UDFs**.  UDFs allow us to transform one Spark <a href=\"https://spark.apache.org/docs/2.2.0/sql-programming-guide.html\">dataframe</a> into another.  UDFs act on one or more columns in a dataframe and return a column vector that we can assign as a new column to our datarame.  We'll first show how we define UDFs to extract relevant date-time information from the `date` field in our dataframe.  First let's take a look at the actual date field:"
   ]
  },
  {
   "cell_type": "code",
   "execution_count": 6,
   "metadata": {},
   "outputs": [
    {
     "data": {
      "text/plain": [
       "[Row(date='Mon Apr 06 22:19:45 PDT 2009'),\n",
       " Row(date='Mon Apr 06 22:19:49 PDT 2009')]"
      ]
     },
     "execution_count": 6,
     "metadata": {},
     "output_type": "execute_result"
    }
   ],
   "source": [
    "df.select(\"date\").take(2) "
   ]
  },
  {
   "cell_type": "markdown",
   "metadata": {},
   "source": [
    "Note that we couldnt use the `.show(N)` method and had to use the `.take(N)` method.  This returns the first N rows in our dataframe as a list of <a href=\"https://jaceklaskowski.gitbooks.io/mastering-spark-sql/spark-sql-Row.html\">Row</a> objects; we used this method because it allows us to see the entire string in the `date` field while `.show(N)` would not. \n",
    "\n",
    "Our first transformation will take the above strings and return the day of the week associated with the date-time in that string.  We write a Python function to do that:"
   ]
  },
  {
   "cell_type": "code",
   "execution_count": 7,
   "metadata": {},
   "outputs": [],
   "source": [
    "def get_day_of_week(s : str) -> str:\n",
    "    \"\"\"\n",
    "    Converts the string from the tweets to day of week by \n",
    "    extracting the first three characters from the string.\n",
    "    \n",
    "    \"\"\"\n",
    "    day      =  s[:3]\n",
    "    new_day  = \"\"\n",
    "    \n",
    "    if day   == \"Sun\":\n",
    "        new_day = \"Sunday\"\n",
    "    elif day == \"Mon\":\n",
    "        new_day = \"Monday\"\n",
    "    elif day == \"Tue\":\n",
    "        new_day = \"Tuesday\"\n",
    "    elif day == \"Wed\":\n",
    "        new_day = \"Wednesday\"\n",
    "    elif day == \"Thu\":\n",
    "        new_day = \"Thursday\"\n",
    "    elif day == \"Fri\":\n",
    "        new_day = \"Friday\"\n",
    "    else:\n",
    "        new_day = \"Saturday\"\n",
    "    \n",
    "    return new_day"
   ]
  },
  {
   "cell_type": "markdown",
   "metadata": {},
   "source": [
    "Next we define the desired transformation on the dataframe using a Spark UDF.  UDFs look like wrappers around our Python functions with the format:\n",
    "\n",
    "    UDF_Name = F.udf(python_function, return_type)\n",
    "    \n",
    "*Note that specifying the return type is not entirely necessary since Spark can infer this at runtime, however, explicitly delcaring the return type does improve performance by allowing the return type to be known at compile time.*\n",
    "\n",
    "In our case the UDF for the above function becomes:"
   ]
  },
  {
   "cell_type": "code",
   "execution_count": 8,
   "metadata": {},
   "outputs": [],
   "source": [
    "getDayOfWeekUDF = F.udf(get_day_of_week, StringType())"
   ]
  },
  {
   "cell_type": "markdown",
   "metadata": {},
   "source": [
    "Now we apply the UDF to columns to our dataframes and the results are appended as a new column to our dataframe.  This is efficient since Spark dataframes use column-based storage. In general we would write the transformation as:\n",
    "\n",
    "    df = df.withColumn(\"output_col\", UDF_Name(df[\"input_col\"]) )\n",
    "  \n",
    "With the above UDF our example becomes:"
   ]
  },
  {
   "cell_type": "code",
   "execution_count": 9,
   "metadata": {},
   "outputs": [],
   "source": [
    "df = df.withColumn(\"day_of_week\", getDayOfWeekUDF(df[\"date\"]))"
   ]
  },
  {
   "cell_type": "markdown",
   "metadata": {},
   "source": [
    "We can now see the results of this transformation:"
   ]
  },
  {
   "cell_type": "code",
   "execution_count": 10,
   "metadata": {},
   "outputs": [
    {
     "name": "stdout",
     "output_type": "stream",
     "text": [
      "+--------------------+-----------+\n",
      "|                date|day_of_week|\n",
      "+--------------------+-----------+\n",
      "|Mon Apr 06 22:19:...|     Monday|\n",
      "|Mon Apr 06 22:19:...|     Monday|\n",
      "|Mon Apr 06 22:19:...|     Monday|\n",
      "+--------------------+-----------+\n",
      "only showing top 3 rows\n",
      "\n"
     ]
    }
   ],
   "source": [
    "df.select([\"date\",\"day_of_week\"]).show(3)"
   ]
  },
  {
   "cell_type": "markdown",
   "metadata": {},
   "source": [
    "Another way to define UDFs is by defining them on <a href=\"https://www.w3schools.com/python/python_lambda.asp\">Lambda functions</a>.  An example is shown below:"
   ]
  },
  {
   "cell_type": "code",
   "execution_count": 2,
   "metadata": {},
   "outputs": [],
   "source": [
    "dateToArrayUDF = F.udf(lambda s : s.split(\" \"), ArrayType(StringType()))"
   ]
  },
  {
   "cell_type": "markdown",
   "metadata": {},
   "source": [
    "This UDF takes the `date` field which is a string and splits the string into an array using white space as the delimiter.  This was the easiest way I could think of to get the month, year, day and time information from the string in the `date` field.  Notice that while the return type of the Python function is a simple list, in Spark we have to be more specific and declare the return type to be an array of strings.\n",
    "\n",
    "We can define a new dataframe which is result of appending this new array column:"
   ]
  },
  {
   "cell_type": "code",
   "execution_count": 13,
   "metadata": {},
   "outputs": [],
   "source": [
    "df2 = df.withColumn(\"date_array\", dateToArrayUDF(df[\"date\"]))"
   ]
  },
  {
   "cell_type": "markdown",
   "metadata": {},
   "source": [
    "We can see the result of this transformation below by using the `toPandas()` function to help with the formatting"
   ]
  },
  {
   "cell_type": "code",
   "execution_count": 28,
   "metadata": {},
   "outputs": [
    {
     "data": {
      "text/html": [
       "<div>\n",
       "<style scoped>\n",
       "    .dataframe tbody tr th:only-of-type {\n",
       "        vertical-align: middle;\n",
       "    }\n",
       "\n",
       "    .dataframe tbody tr th {\n",
       "        vertical-align: top;\n",
       "    }\n",
       "\n",
       "    .dataframe thead th {\n",
       "        text-align: right;\n",
       "    }\n",
       "</style>\n",
       "<table border=\"1\" class=\"dataframe\">\n",
       "  <thead>\n",
       "    <tr style=\"text-align: right;\">\n",
       "      <th></th>\n",
       "      <th>date</th>\n",
       "      <th>date_array</th>\n",
       "    </tr>\n",
       "  </thead>\n",
       "  <tbody>\n",
       "    <tr>\n",
       "      <th>0</th>\n",
       "      <td>Mon Apr 06 22:19:45 PDT 2009</td>\n",
       "      <td>[Mon, Apr, 06, 22:19:45, PDT, 2009]</td>\n",
       "    </tr>\n",
       "    <tr>\n",
       "      <th>1</th>\n",
       "      <td>Mon Apr 06 22:19:49 PDT 2009</td>\n",
       "      <td>[Mon, Apr, 06, 22:19:49, PDT, 2009]</td>\n",
       "    </tr>\n",
       "  </tbody>\n",
       "</table>\n",
       "</div>"
      ],
      "text/plain": [
       "                           date                           date_array\n",
       "0  Mon Apr 06 22:19:45 PDT 2009  [Mon, Apr, 06, 22:19:45, PDT, 2009]\n",
       "1  Mon Apr 06 22:19:49 PDT 2009  [Mon, Apr, 06, 22:19:49, PDT, 2009]"
      ]
     },
     "execution_count": 28,
     "metadata": {},
     "output_type": "execute_result"
    }
   ],
   "source": [
    "df2.select([\"date\",\"date_array\"])\\\n",
    "   .limit(2)\\\n",
    "   .toPandas()"
   ]
  },
  {
   "cell_type": "markdown",
   "metadata": {},
   "source": [
    "One other thing to note is that Spark <a href=\"https://spark.apache.org/docs/latest/sql-programming-guide.html\">Dataframes</a> are based on <a href=\"https://www.tutorialspoint.com/apache_spark/apache_spark_rdd.htm\">Resiliant Distributed Dasesets (RDDs)</a> which are immutable, distributed Java objects.  It is perferred when using structured data to use dataframes over RDDs since the former has built-in optimizations.  The fact RDDs are immutable means that Dataframes are immutable.  While we can still call the resulting dataframe from transformations the same variable name `df`, the new dataframe is actually pointing to a completely new object under-the-hood. Many times it is desirable to call the resulting dataframes by the same name, but sometimes we  have to give the new dataframe a different variable name like we did in the previous cell.  We do this for convenience sometimes and othertimes because we do not want to violate the acyclic nature of DAGS.\n",
    "\n",
    "Next let's define a more few functions to extract the day, month, year, time and create a timestamp for the tweet. The functions will take as an input the `date_array` column.  That is they take as input the array of strings that results from the delimiting of the `date` field by whitespace. We don't show how these functions are defined (see <a href=\"https://github.com/mdh266/TwitterSentimentAnalysis/tree/master/ETL/src\">source code</a>), but rather import them from `ETL.src`:"
   ]
  },
  {
   "cell_type": "code",
   "execution_count": 17,
   "metadata": {},
   "outputs": [],
   "source": [
    "from ETL.src.date_utility_functions import (get_month,\n",
    "                                            get_year,\n",
    "                                            get_day,\n",
    "                                            create_timestamp)"
   ]
  },
  {
   "cell_type": "markdown",
   "metadata": {},
   "source": [
    "Now we create UDFs around these functions as well as creating them around lambda functions to change the `target` field form 0 to 1:"
   ]
  },
  {
   "cell_type": "code",
   "execution_count": 19,
   "metadata": {},
   "outputs": [],
   "source": [
    "getYearUDF      = F.udf(get_year, IntegerType())\n",
    "\n",
    "getDayUDF       = F.udf(get_day, IntegerType())\n",
    "\n",
    "getMonthUDF     = F.udf(get_month, IntegerType())\n",
    "\n",
    "getTimeUDF      = F.udf(lambda a : a[3], StringType())\n",
    "\n",
    "timestampUDF    = F.udf(create_timestamp, TimestampType())\n",
    "\n",
    "targetUDF       = F.udf(lambda x: 1 if x == \"4\" else 0, IntegerType())"
   ]
  },
  {
   "cell_type": "markdown",
   "metadata": {},
   "source": [
    "Now we apply the above UDFs just as we did before. We can get the `month` of the tweet from the `date_array` column by applying the `getMonthUDF` function with the following:"
   ]
  },
  {
   "cell_type": "code",
   "execution_count": 20,
   "metadata": {},
   "outputs": [],
   "source": [
    "df2 = df2.withColumn(\"month\", getMonthUDF(F.col(\"date_array\")))"
   ]
  },
  {
   "cell_type": "markdown",
   "metadata": {},
   "source": [
    "**Note that we had to use the notation `F.col('input_col')` instead of `df['input_col']`.  This is because the column `date_array` is a derived column from the original dataframe/csv.  In order for Spark to be able to act on derived columns we need to use the `F.col` to access the column instead of using the dataframe name itself.**\n",
    "\n",
    "\n",
    "Now we want to apply multiple different UDFs (`getYearUDF`, `getDayUDF`, `getTimeUDF`) to the same `date_array` column.  We could list these operations all out individually as we did before, but since the input is not changing we can group all the UDFs as well as their output column names into a list,"
   ]
  },
  {
   "cell_type": "code",
   "execution_count": 21,
   "metadata": {},
   "outputs": [],
   "source": [
    "list_udf  = [getYearUDF, getDayUDF, getTimeUDF]\n",
    "list_cols = [\"year\", \"day\", \"time\"]"
   ]
  },
  {
   "cell_type": "markdown",
   "metadata": {},
   "source": [
    "and then iterate through that list applying the UDFS to the single input column,"
   ]
  },
  {
   "cell_type": "code",
   "execution_count": 23,
   "metadata": {},
   "outputs": [],
   "source": [
    "for udf, output in zip(list_udf, list_cols) :\n",
    "  df2 = df2.withColumn(output, udf(F.col(\"date_array\")))"
   ]
  },
  {
   "cell_type": "markdown",
   "metadata": {},
   "source": [
    "Now we want want to store an actual datetime object for the tweet and use the `timeStampUDF` function to do so.  Notice how easy it is use UDFs that have multiple input columns, we just list them out!"
   ]
  },
  {
   "cell_type": "code",
   "execution_count": 24,
   "metadata": {},
   "outputs": [],
   "source": [
    "# now we create a time stamp of the extracted data\n",
    "df2 = df2.withColumn(\"timestamp\", timestampUDF(F.col(\"year\"),\n",
    "                                               F.col(\"month\"),\n",
    "                                               F.col(\"day\"),\n",
    "                                               F.col(\"time\")))"
   ]
  },
  {
   "cell_type": "markdown",
   "metadata": {},
   "source": [
    "Now we have finished getting the date-time information from the `date` column on our dataframe.  We now rename some of the columns and prepare to transform the text data next."
   ]
  },
  {
   "cell_type": "code",
   "execution_count": 25,
   "metadata": {},
   "outputs": [],
   "source": [
    "# convert the target to a numeric 0 if negative, 1 if postive\n",
    "df2 = df2.withColumn(\"sentiment\", targetUDF(df2[\"target\"]))\n",
    "\n",
    "# Drop the columns we no longer care about\n",
    "df3 = df2.drop(\"flag\",\"date\",\"date_array\", \"time\", \"target\")\n",
    "\n",
    "# rename the tweet id as _id which is the unique identifier in MongoDB\n",
    "df3 = df3.withColumnRenamed(\"id\", \"_id\")\n",
    "\n",
    "# rename the text as tweet so we can write a text index without confusion\n",
    "df3 = df3.withColumnRenamed(\"text\", \"tweet\")"
   ]
  },
  {
   "cell_type": "markdown",
   "metadata": {},
   "source": [
    "We can take a look at our dataframes entries by running,"
   ]
  },
  {
   "cell_type": "code",
   "execution_count": 27,
   "metadata": {},
   "outputs": [
    {
     "data": {
      "text/html": [
       "<div>\n",
       "<style scoped>\n",
       "    .dataframe tbody tr th:only-of-type {\n",
       "        vertical-align: middle;\n",
       "    }\n",
       "\n",
       "    .dataframe tbody tr th {\n",
       "        vertical-align: top;\n",
       "    }\n",
       "\n",
       "    .dataframe thead th {\n",
       "        text-align: right;\n",
       "    }\n",
       "</style>\n",
       "<table border=\"1\" class=\"dataframe\">\n",
       "  <thead>\n",
       "    <tr style=\"text-align: right;\">\n",
       "      <th></th>\n",
       "      <th>_id</th>\n",
       "      <th>user</th>\n",
       "      <th>tweet</th>\n",
       "      <th>day_of_week</th>\n",
       "      <th>month</th>\n",
       "      <th>year</th>\n",
       "      <th>day</th>\n",
       "      <th>timestamp</th>\n",
       "      <th>sentiment</th>\n",
       "    </tr>\n",
       "  </thead>\n",
       "  <tbody>\n",
       "    <tr>\n",
       "      <th>0</th>\n",
       "      <td>1467810369</td>\n",
       "      <td>_TheSpecialOne_</td>\n",
       "      <td>@switchfoot http://twitpic.com/2y1zl - Awww, t...</td>\n",
       "      <td>Monday</td>\n",
       "      <td>4</td>\n",
       "      <td>2009</td>\n",
       "      <td>6</td>\n",
       "      <td>2009-04-06 22:19:45</td>\n",
       "      <td>0</td>\n",
       "    </tr>\n",
       "    <tr>\n",
       "      <th>1</th>\n",
       "      <td>1467810672</td>\n",
       "      <td>scotthamilton</td>\n",
       "      <td>is upset that he can't update his Facebook by ...</td>\n",
       "      <td>Monday</td>\n",
       "      <td>4</td>\n",
       "      <td>2009</td>\n",
       "      <td>6</td>\n",
       "      <td>2009-04-06 22:19:49</td>\n",
       "      <td>0</td>\n",
       "    </tr>\n",
       "  </tbody>\n",
       "</table>\n",
       "</div>"
      ],
      "text/plain": [
       "          _id             user  \\\n",
       "0  1467810369  _TheSpecialOne_   \n",
       "1  1467810672    scotthamilton   \n",
       "\n",
       "                                               tweet day_of_week  month  year  \\\n",
       "0  @switchfoot http://twitpic.com/2y1zl - Awww, t...      Monday      4  2009   \n",
       "1  is upset that he can't update his Facebook by ...      Monday      4  2009   \n",
       "\n",
       "   day           timestamp  sentiment  \n",
       "0    6 2009-04-06 22:19:45          0  \n",
       "1    6 2009-04-06 22:19:49          0  "
      ]
     },
     "execution_count": 27,
     "metadata": {},
     "output_type": "execute_result"
    }
   ],
   "source": [
    "df3.limit(2).toPandas()"
   ]
  },
  {
   "cell_type": "markdown",
   "metadata": {},
   "source": [
    "In order to clean the text data we first tokenize our strings.  This means we create an array from the text where each entry in the array is an element in the string that was sperated by white space. For example, the sentence,\n",
    "\n",
    "    \"Hello my name is Mike\"\n",
    "    \n",
    "becomes,\n",
    "\n",
    "    [\"Hello\", \"my\", \"name\", \"is\", \"Mike\"]\n",
    "    \n",
    "The reason we need to tokenize is two part. The first reason is because we want to build up arrays of tokens to use in our **<a href=\"https://en.wikipedia.org/wiki/Bag-of-words_model\">bag-of-words model</a>**.  The second reason is because it allows us to apply regular-expressions to individual words/tokens and gives us a finer granularity on cleaning our text.\n",
    " \n",
    "We use the `Tokenizer` class in Spark to create a new column of arrays of tokens:"
   ]
  },
  {
   "cell_type": "code",
   "execution_count": 31,
   "metadata": {},
   "outputs": [],
   "source": [
    "from pyspark.ml.feature import Tokenizer\n",
    "\n",
    "# use PySparks build in tokenizer to tokenize tweets\n",
    "tokenizer = Tokenizer(inputCol  = \"tweet\",\n",
    "                      outputCol = \"token\")\n",
    "\n",
    "df4 = tokenizer.transform(df3)"
   ]
  },
  {
   "cell_type": "markdown",
   "metadata": {},
   "source": [
    "We can take a look at the results again:"
   ]
  },
  {
   "cell_type": "code",
   "execution_count": 33,
   "metadata": {},
   "outputs": [
    {
     "data": {
      "text/html": [
       "<div>\n",
       "<style scoped>\n",
       "    .dataframe tbody tr th:only-of-type {\n",
       "        vertical-align: middle;\n",
       "    }\n",
       "\n",
       "    .dataframe tbody tr th {\n",
       "        vertical-align: top;\n",
       "    }\n",
       "\n",
       "    .dataframe thead th {\n",
       "        text-align: right;\n",
       "    }\n",
       "</style>\n",
       "<table border=\"1\" class=\"dataframe\">\n",
       "  <thead>\n",
       "    <tr style=\"text-align: right;\">\n",
       "      <th></th>\n",
       "      <th>_id</th>\n",
       "      <th>user</th>\n",
       "      <th>tweet</th>\n",
       "      <th>day_of_week</th>\n",
       "      <th>month</th>\n",
       "      <th>year</th>\n",
       "      <th>day</th>\n",
       "      <th>timestamp</th>\n",
       "      <th>sentiment</th>\n",
       "      <th>token</th>\n",
       "    </tr>\n",
       "  </thead>\n",
       "  <tbody>\n",
       "    <tr>\n",
       "      <th>0</th>\n",
       "      <td>1467810369</td>\n",
       "      <td>_TheSpecialOne_</td>\n",
       "      <td>@switchfoot http://twitpic.com/2y1zl - Awww, t...</td>\n",
       "      <td>Monday</td>\n",
       "      <td>4</td>\n",
       "      <td>2009</td>\n",
       "      <td>6</td>\n",
       "      <td>2009-04-06 22:19:45</td>\n",
       "      <td>0</td>\n",
       "      <td>[@switchfoot, http://twitpic.com/2y1zl, -, aww...</td>\n",
       "    </tr>\n",
       "    <tr>\n",
       "      <th>1</th>\n",
       "      <td>1467810672</td>\n",
       "      <td>scotthamilton</td>\n",
       "      <td>is upset that he can't update his Facebook by ...</td>\n",
       "      <td>Monday</td>\n",
       "      <td>4</td>\n",
       "      <td>2009</td>\n",
       "      <td>6</td>\n",
       "      <td>2009-04-06 22:19:49</td>\n",
       "      <td>0</td>\n",
       "      <td>[is, upset, that, he, can't, update, his, face...</td>\n",
       "    </tr>\n",
       "  </tbody>\n",
       "</table>\n",
       "</div>"
      ],
      "text/plain": [
       "          _id             user  \\\n",
       "0  1467810369  _TheSpecialOne_   \n",
       "1  1467810672    scotthamilton   \n",
       "\n",
       "                                               tweet day_of_week  month  year  \\\n",
       "0  @switchfoot http://twitpic.com/2y1zl - Awww, t...      Monday      4  2009   \n",
       "1  is upset that he can't update his Facebook by ...      Monday      4  2009   \n",
       "\n",
       "   day           timestamp  sentiment  \\\n",
       "0    6 2009-04-06 22:19:45          0   \n",
       "1    6 2009-04-06 22:19:49          0   \n",
       "\n",
       "                                               token  \n",
       "0  [@switchfoot, http://twitpic.com/2y1zl, -, aww...  \n",
       "1  [is, upset, that, he, can't, update, his, face...  "
      ]
     },
     "execution_count": 33,
     "metadata": {},
     "output_type": "execute_result"
    }
   ],
   "source": [
    "df4.limit(2).toPandas()"
   ]
  },
  {
   "cell_type": "markdown",
   "metadata": {},
   "source": [
    "Now we want to clean up the tweets.  This means we want to remove any web addresses, call outs and hashtags.  We do this by defining a Python function that takes in a list of tokens and performs regular expressions on each token to remove the unwanted characters and returns the list of clean tokens:"
   ]
  },
  {
   "cell_type": "code",
   "execution_count": 34,
   "metadata": {},
   "outputs": [],
   "source": [
    "import re\n",
    "\n",
    "def removeRegex(tokens: list) -> list:\n",
    "    \"\"\"\n",
    "    Removes hashtags, call outs and web addresses from tokens.\n",
    "    \"\"\"\n",
    "    expr    = '(@[A-Za-z0-a9_]+)|(#[A-Za-z0-9_]+)|'+\\\n",
    "              '(https?://[^\\s<>\"]+|www\\.[^\\s<>\"]+)'\n",
    "        \n",
    "    regex   = re.compile(expr)\n",
    "\n",
    "    cleaned = [t for t in tokens if not(regex.search(t)) if len(t) > 0]\n",
    "\n",
    "    return list(filter(None, cleaned))"
   ]
  },
  {
   "cell_type": "markdown",
   "metadata": {},
   "source": [
    "Now we write a UDF around this function:"
   ]
  },
  {
   "cell_type": "code",
   "execution_count": 35,
   "metadata": {},
   "outputs": [],
   "source": [
    "removeWEBUDF = F.udf(removeRegex, ArrayType(StringType()))"
   ]
  },
  {
   "cell_type": "markdown",
   "metadata": {},
   "source": [
    "Next we define our last function which removes any non-english characters from the tokens and wrap it in a Spark UDF just as we did above."
   ]
  },
  {
   "cell_type": "code",
   "execution_count": 36,
   "metadata": {},
   "outputs": [],
   "source": [
    "def normalize(tokens : list) -> list:\n",
    "    \"\"\"\n",
    "    Removes non-english characters and returns lower case versions of words.\n",
    "    \"\"\"\n",
    "    subbed   = [re.sub(\"[^a-zA-Z]+\", \"\", s).lower() for s in tokens]\n",
    "    \n",
    "    filtered = filter(None, subbed)\n",
    "    \n",
    "    return list(filtered)\n",
    "\n",
    "\n",
    "normalizeUDF = F.udf(normalize, ArrayType(StringType()))"
   ]
  },
  {
   "cell_type": "markdown",
   "metadata": {},
   "source": [
    "Now we apply our UDFs and remove any tweets that after cleaning result in an empty array of tokens.  "
   ]
  },
  {
   "cell_type": "code",
   "execution_count": 37,
   "metadata": {},
   "outputs": [],
   "source": [
    "# remove hashtags, call outs and web addresses\n",
    "df4 = df4.withColumn(\"tokens_re\", removeWEBUDF(df4[\"token\"]))\n",
    "\n",
    "# remove non english characters\n",
    "df4 = df4.withColumn(\"tokens_clean\", normalizeUDF(df4[\"tokens_re\"]))\n",
    "\n",
    "# rename columns\n",
    "df5 = df4.drop(\"token\",\"tokens_re\")\n",
    "df5 = df5.withColumnRenamed(\"tokens_clean\", \"tokens\")\\\n",
    "\n",
    "# remove tweets where the tokens array is empty, i.e. where it was just\n",
    "# a hashtag, callout, numbers, web adress etc.\n",
    "df6 = df5.where(F.size(F.col(\"tokens\")) > 0)"
   ]
  },
  {
   "cell_type": "markdown",
   "metadata": {},
   "source": [
    "Looking at the results:"
   ]
  },
  {
   "cell_type": "code",
   "execution_count": 38,
   "metadata": {},
   "outputs": [
    {
     "data": {
      "text/html": [
       "<div>\n",
       "<style scoped>\n",
       "    .dataframe tbody tr th:only-of-type {\n",
       "        vertical-align: middle;\n",
       "    }\n",
       "\n",
       "    .dataframe tbody tr th {\n",
       "        vertical-align: top;\n",
       "    }\n",
       "\n",
       "    .dataframe thead th {\n",
       "        text-align: right;\n",
       "    }\n",
       "</style>\n",
       "<table border=\"1\" class=\"dataframe\">\n",
       "  <thead>\n",
       "    <tr style=\"text-align: right;\">\n",
       "      <th></th>\n",
       "      <th>_id</th>\n",
       "      <th>user</th>\n",
       "      <th>tweet</th>\n",
       "      <th>day_of_week</th>\n",
       "      <th>month</th>\n",
       "      <th>year</th>\n",
       "      <th>day</th>\n",
       "      <th>timestamp</th>\n",
       "      <th>sentiment</th>\n",
       "      <th>tokens</th>\n",
       "    </tr>\n",
       "  </thead>\n",
       "  <tbody>\n",
       "    <tr>\n",
       "      <th>0</th>\n",
       "      <td>1467810369</td>\n",
       "      <td>_TheSpecialOne_</td>\n",
       "      <td>@switchfoot http://twitpic.com/2y1zl - Awww, t...</td>\n",
       "      <td>Monday</td>\n",
       "      <td>4</td>\n",
       "      <td>2009</td>\n",
       "      <td>6</td>\n",
       "      <td>2009-04-06 22:19:45</td>\n",
       "      <td>0</td>\n",
       "      <td>[awww, thats, a, bummer, you, shoulda, got, da...</td>\n",
       "    </tr>\n",
       "    <tr>\n",
       "      <th>1</th>\n",
       "      <td>1467810672</td>\n",
       "      <td>scotthamilton</td>\n",
       "      <td>is upset that he can't update his Facebook by ...</td>\n",
       "      <td>Monday</td>\n",
       "      <td>4</td>\n",
       "      <td>2009</td>\n",
       "      <td>6</td>\n",
       "      <td>2009-04-06 22:19:49</td>\n",
       "      <td>0</td>\n",
       "      <td>[is, upset, that, he, cant, update, his, faceb...</td>\n",
       "    </tr>\n",
       "  </tbody>\n",
       "</table>\n",
       "</div>"
      ],
      "text/plain": [
       "          _id             user  \\\n",
       "0  1467810369  _TheSpecialOne_   \n",
       "1  1467810672    scotthamilton   \n",
       "\n",
       "                                               tweet day_of_week  month  year  \\\n",
       "0  @switchfoot http://twitpic.com/2y1zl - Awww, t...      Monday      4  2009   \n",
       "1  is upset that he can't update his Facebook by ...      Monday      4  2009   \n",
       "\n",
       "   day           timestamp  sentiment  \\\n",
       "0    6 2009-04-06 22:19:45          0   \n",
       "1    6 2009-04-06 22:19:49          0   \n",
       "\n",
       "                                              tokens  \n",
       "0  [awww, thats, a, bummer, you, shoulda, got, da...  \n",
       "1  [is, upset, that, he, cant, update, his, faceb...  "
      ]
     },
     "execution_count": 38,
     "metadata": {},
     "output_type": "execute_result"
    }
   ],
   "source": [
    "df6.limit(2).toPandas()"
   ]
  },
  {
   "cell_type": "markdown",
   "metadata": {},
   "source": [
    "\n",
    "### LOAD <a class=\"anchor\" id=\"bullet5\"></a>\n",
    "--------\n",
    "\n",
    "Now come to the last stage in ETL, i.e. the stage where we write the data into our database.  Spark and MongoDB work well together and writing the dataframe to a collection is as easy as declaring the format and passing in the names of the database and collection you want to write to:"
   ]
  },
  {
   "cell_type": "code",
   "execution_count": 40,
   "metadata": {},
   "outputs": [],
   "source": [
    "db_name          = \"db_twitter\"\n",
    "collection_name  = \"tweets\"\n",
    "\n",
    "# write the dataframe to the specified database and collection\n",
    "df6.write.format(\"com.mongodb.spark.sql.DefaultSource\")\\\n",
    "       .option(\"database\", db_name)\\\n",
    "       .option(\"collection\", collection_name)\\\n",
    "       .mode(\"overwrite\")\\\n",
    "       .save()"
   ]
  },
  {
   "cell_type": "markdown",
   "metadata": {},
   "source": [
    "That's it for the section on ETL with Spark.  Let's take a look at workinng with our MongoDB database next!"
   ]
  },
  {
   "cell_type": "markdown",
   "metadata": {
    "collapsed": true
   },
   "source": [
    "## MongoDB & PyMongo <a class=\"anchor\" id=\"bullet6\"></a>\n",
    "----\n",
    "\n",
    "<a href=\"https://www.mongodb.com/\">MongoDB</a> is a document based <a href=\"https://en.wikipedia.org/wiki/NoSQL\">NoSQL </a> database that is fast, easy to use and allows for flexible schemas.  I used MongoDB in this blog post since it is document based and is perfect for working inconsistent text data like tweets. \n",
    "\n",
    "Each database in MongoDB contains **collections**, each collection contains a set of **documents** that are stored as JSON objects.  In our current example each tweet is a document in our `tweets` collection in the `db_twitter` database.  MongoDB has nice GUI called <a href=\"https://www.mongodb.com/products/compass\">Compass</a>. An example view of our `tweets` collection using Compass is shown below:\n",
    "\n",
    "<img src=\"https://github.com/mdh266/TwitterSentimentAnalysis/blob/808d8e9c8db111147ce8f4cbf5806d4a9385b7b2/images/Compass1.png?raw=1\">\n",
    "\n",
    "Compass gives a nice interface to our database and allows us to run interactive queries on collections and displays easy to read results.  One of the most useful features is the ability to analyze your schema. as shown below:\n",
    "\n",
    "<img src=\"https://github.com/mdh266/TwitterSentimentAnalysis/blob/808d8e9c8db111147ce8f4cbf5806d4a9385b7b2/images/Compass2.png?raw=1\">\n",
    "\n",
    "\n",
    "This utility samples our collection to determine the datatypes and values of the fields in your documents.  The ability to discern datatypes is especially useful for this type of NoSQL database because fields can have multiple different datatypes.  This is in contrast to traditional SQL databases where the entries in tables must rigidly adhere to the defined datatype of that field.  \n",
    "\n",
    "Besides, interacting with a MongoDB database through Compass one can instead use the Mongo Shell, however we will not go over in this feature in this post (except for using it to create an index). Instead we'll use the <a href=\"https://api.mongodb.com/python/current/\">PyMongo</a> driver which allows us to connect to our Mongo server using Python.\n",
    "\n",
    "First we import the PyMongo module:"
   ]
  },
  {
   "cell_type": "code",
   "execution_count": 41,
   "metadata": {},
   "outputs": [],
   "source": [
    "import pymongo"
   ]
  },
  {
   "cell_type": "markdown",
   "metadata": {
    "collapsed": true
   },
   "source": [
    "Then we can connect to our Mongo server and `db_twitter` database:"
   ]
  },
  {
   "cell_type": "code",
   "execution_count": 42,
   "metadata": {},
   "outputs": [],
   "source": [
    "# connect to the mongo\n",
    "conn = pymongo.MongoClient('mongodb://localhost:27017')\n",
    "\n",
    "# connect to the twitter database\n",
    "db = conn.db_twitter"
   ]
  },
  {
   "cell_type": "markdown",
   "metadata": {},
   "source": [
    "We can now get the `tweets` collections with the following:"
   ]
  },
  {
   "cell_type": "code",
   "execution_count": 43,
   "metadata": {},
   "outputs": [],
   "source": [
    "tweets = db.tweets "
   ]
  },
  {
   "cell_type": "markdown",
   "metadata": {
    "collapsed": true
   },
   "source": [
    "Mongo uses JavaScript as it's query language so our queries input and outputs are <a href=\"https://en.wikipedia.org/wiki/JSON\">JSON</a>.  In Python we will use dictionaries as the equivalent to JSON. We can run a first example query below:"
   ]
  },
  {
   "cell_type": "code",
   "execution_count": 45,
   "metadata": {},
   "outputs": [],
   "source": [
    "query      = {\"day_of_week\": \"Monday\"}"
   ]
  },
  {
   "cell_type": "markdown",
   "metadata": {},
   "source": [
    "This is a simple filter query where we scan `tweets` collection and only return documents that occured on `Monday`,"
   ]
  },
  {
   "cell_type": "code",
   "execution_count": 54,
   "metadata": {},
   "outputs": [],
   "source": [
    "results = tweets.find(query)"
   ]
  },
  {
   "cell_type": "markdown",
   "metadata": {},
   "source": [
    "The returned `results` variable is an **interator** of **documents** (a cursor in Mongo terminology).  We can iterate through the first 3 documents/tweets with the following:"
   ]
  },
  {
   "cell_type": "code",
   "execution_count": 55,
   "metadata": {},
   "outputs": [
    {
     "name": "stdout",
     "output_type": "stream",
     "text": [
      "Document = {'_id': '1467810369', 'user': '_TheSpecialOne_', 'tweet': \"@switchfoot http://twitpic.com/2y1zl - Awww, that's a bummer.  You shoulda got David Carr of Third Day to do it. ;D\", 'day_of_week': 'Monday', 'month': 4, 'year': 2009, 'day': 6, 'timestamp': datetime.datetime(2009, 4, 7, 2, 19, 45), 'sentiment': 0, 'tokens': ['awww', 'thats', 'a', 'bummer', 'you', 'shoulda', 'got', 'david', 'carr', 'of', 'third', 'day', 'to', 'do', 'it', 'd']}\n",
      "\n",
      "Document = {'_id': '1467810672', 'user': 'scotthamilton', 'tweet': \"is upset that he can't update his Facebook by texting it... and might cry as a result  School today also. Blah!\", 'day_of_week': 'Monday', 'month': 4, 'year': 2009, 'day': 6, 'timestamp': datetime.datetime(2009, 4, 7, 2, 19, 49), 'sentiment': 0, 'tokens': ['is', 'upset', 'that', 'he', 'cant', 'update', 'his', 'facebook', 'by', 'texting', 'it', 'and', 'might', 'cry', 'as', 'a', 'result', 'school', 'today', 'also', 'blah']}\n",
      "\n"
     ]
    }
   ],
   "source": [
    "for res in results.limit(2):\n",
    "    print(\"Document = {}\\n\".format(res))"
   ]
  },
  {
   "cell_type": "markdown",
   "metadata": {},
   "source": [
    "The `_id` field is the unique identifier for a document and has been set to the tweet id in this case.  As you can see the resulting documents contain all the fields, if instead we wanted only a subset of the fields we can use a projection. Projections list fields to show with the name followed by a 1 and the those not to show with their name followed by a 0: "
   ]
  },
  {
   "cell_type": "code",
   "execution_count": 56,
   "metadata": {},
   "outputs": [
    {
     "name": "stdout",
     "output_type": "stream",
     "text": [
      "Document = {'user': '_TheSpecialOne_', 'tweet': \"@switchfoot http://twitpic.com/2y1zl - Awww, that's a bummer.  You shoulda got David Carr of Third Day to do it. ;D\"}\n",
      "\n",
      "Document = {'user': 'scotthamilton', 'tweet': \"is upset that he can't update his Facebook by texting it... and might cry as a result  School today also. Blah!\"}\n",
      "\n",
      "Document = {'user': 'mattycus', 'tweet': '@Kenichan I dived many times for the ball. Managed to save 50%  The rest go out of bounds'}\n",
      "\n"
     ]
    }
   ],
   "source": [
    "projection = {\"_id\":0, \"user\":1, \"tweet\":1} \n",
    "\n",
    "# use the same query as before, but with a projection operator as second arguemtn\n",
    "results = tweets.find(query, projection)\n",
    "\n",
    "# print first three results again\n",
    "for res in results.limit(3):\n",
    "    print(\"Document = {}\\n\".format(res))"
   ]
  },
  {
   "cell_type": "markdown",
   "metadata": {},
   "source": [
    "With a projection the `_id` field is shown by default and needs to be explicitly suppressed. All other fields in the document are by default suppressed and need a 1 after them to be displayed.  \n",
    "\n",
    "The filter above was just a simple string matching query.  If we wanted to find those tweets that occured on a Monday and in the months before june I would write:"
   ]
  },
  {
   "cell_type": "code",
   "execution_count": 57,
   "metadata": {},
   "outputs": [],
   "source": [
    "# filter tweets to be on Monday and months before June.\n",
    "query      = {\"day_of_week\":\"Monday\", \"month\":{\"$lt\":6}}\n",
    "\n",
    "# only include the user name, month and text\n",
    "projection = {\"_id\":0, \"user\":1, \"month\":1, \"tweet\":1}"
   ]
  },
  {
   "cell_type": "code",
   "execution_count": 58,
   "metadata": {},
   "outputs": [
    {
     "name": "stdout",
     "output_type": "stream",
     "text": [
      "Document = {'user': '_TheSpecialOne_', 'tweet': \"@switchfoot http://twitpic.com/2y1zl - Awww, that's a bummer.  You shoulda got David Carr of Third Day to do it. ;D\", 'month': 4}\n",
      "\n",
      "Document = {'user': 'scotthamilton', 'tweet': \"is upset that he can't update his Facebook by texting it... and might cry as a result  School today also. Blah!\", 'month': 4}\n",
      "\n",
      "Document = {'user': 'mattycus', 'tweet': '@Kenichan I dived many times for the ball. Managed to save 50%  The rest go out of bounds', 'month': 4}\n",
      "\n"
     ]
    }
   ],
   "source": [
    "results = tweets.find(query, projection)\n",
    "\n",
    "for res in results.limit(3):\n",
    "    print(\"Document = {}\\n\".format(res))"
   ]
  },
  {
   "cell_type": "markdown",
   "metadata": {},
   "source": [
    "We can perform a simple aggregation such as finding out the number of tweets that correspond to each sentiment.  To do so we use a `$group` operator in the first line in our query.  The field that we group by in this case is the `sentiment` field:"
   ]
  },
  {
   "cell_type": "code",
   "execution_count": 59,
   "metadata": {},
   "outputs": [],
   "source": [
    "# Simple groupby example query\n",
    "count_sentiment = {\"$group\": \n",
    "                     {\"_id\" : {\"sentiment\":\"$sentiment\"},  # note use a $ on the field\n",
    "                      \"ct\"  : {\"$sum\":1}\n",
    "                     }\n",
    "                  }"
   ]
  },
  {
   "cell_type": "markdown",
   "metadata": {},
   "source": [
    "The result of this query will be a new document, and this is the reason we need a `_id`, with the resulting value of the key-value pairs `{'sentiment': value}` and `{'ct': value}`. The first key-value pair's value will either be 0 or 1 and the second key-value pair's value will be the number of tweets with that sentiment.\n",
    "\n",
    "We can then run the query using the <a href=\"http://api.mongodb.com/python/current/examples/aggregation.html\">aggregate</a> method.  "
   ]
  },
  {
   "cell_type": "code",
   "execution_count": 60,
   "metadata": {},
   "outputs": [
    {
     "name": "stdout",
     "output_type": "stream",
     "text": [
      "{'_id': {'sentiment': 0}, 'ct': 797066}\n",
      "{'_id': {'sentiment': 1}, 'ct': 797169}\n"
     ]
    }
   ],
   "source": [
    "results = tweets.aggregate([count_sentiment], allowDiskUse=True)\n",
    "\n",
    "for res in results:\n",
    "    print(res)"
   ]
  },
  {
   "cell_type": "markdown",
   "metadata": {},
   "source": [
    "First notice that the query is within an array; this allows us to run multiple aggreation queries or 'stages in our aggregation pipeline'. By default each stage in the pipeline can only use 180mb of memory, so inorder to run larger queries we must set ` allowDiskUse=True` to allow the calculations to spill over onto disk.\n",
    "\n",
    "From this query we can see that, **our data set is actually quite well balanced, meaning the number of positive and negative tweets are about the same.**\n",
    "\n",
    "Next we show an example of an aggregation pipeline.  The first stage in the pipeline groups the months, and therefore gets the unique months in our dataset:"
   ]
  },
  {
   "cell_type": "code",
   "execution_count": 61,
   "metadata": {},
   "outputs": [],
   "source": [
    "# get the unique months\n",
    "get_months = {\"$group\": {\"_id\": \"$month\"} }"
   ]
  },
  {
   "cell_type": "markdown",
   "metadata": {},
   "source": [
    "The second stage in the pipeline is a projection, which changes the structure of the resulting document:"
   ]
  },
  {
   "cell_type": "code",
   "execution_count": 62,
   "metadata": {},
   "outputs": [],
   "source": [
    "rename_id  = {\"$project\": \n",
    "                      {\"_id\":0,\n",
    "                       \"month\":\"$_id\"\n",
    "                    }\n",
    "             }"
   ]
  },
  {
   "cell_type": "markdown",
   "metadata": {},
   "source": [
    "In this case the projection operator (`$project`) suppresses the original `_id` field for the resulting document of stage one and instead defines the new `month` key which uses the `_id` value (`$_id` operator).  We can run this query and see the results:"
   ]
  },
  {
   "cell_type": "code",
   "execution_count": 63,
   "metadata": {},
   "outputs": [
    {
     "name": "stdout",
     "output_type": "stream",
     "text": [
      "{'month': 5}\n",
      "{'month': 6}\n",
      "{'month': 4}\n"
     ]
    }
   ],
   "source": [
    "results = tweets.aggregate([get_months, rename_id])\n",
    "\n",
    "for res in results:\n",
    "    print(res)"
   ]
  },
  {
   "cell_type": "markdown",
   "metadata": {},
   "source": [
    "We can see our Twitter database only has the months: April, May and June.  Another example of multiple aggregations is to use the same group-by-count query as above, but filtering first on the month.  This dataset only has 3 months of tweets in it and we can use a `$match` operator to first filter our data to only consider the month of June and then count the number of tweets that occurred in June by using the same query (`count_sentiment`) as above.  The query which performs the match is:"
   ]
  },
  {
   "cell_type": "code",
   "execution_count": 67,
   "metadata": {},
   "outputs": [],
   "source": [
    "match_query = {\"$match\": {\"month\":6}}"
   ]
  },
  {
   "cell_type": "markdown",
   "metadata": {},
   "source": [
    "We can then run the full pipeline and print the number of tweets that were positive and negative in the month of June:"
   ]
  },
  {
   "cell_type": "code",
   "execution_count": 69,
   "metadata": {},
   "outputs": [
    {
     "name": "stdout",
     "output_type": "stream",
     "text": [
      "{'_id': {'sentiment': 1}, 'ct': 388416}\n",
      "{'_id': {'sentiment': 0}, 'ct': 531999}\n"
     ]
    }
   ],
   "source": [
    "results = tweets.aggregate([match_query, count_sentiment], allowDiskUse=True)\n",
    "\n",
    "for res in results:\n",
    "    print(res)"
   ]
  },
  {
   "cell_type": "markdown",
   "metadata": {},
   "source": [
    "The last topic I will discuss in the Mongo query langauge is the topic of <a href=\"https://docs.mongodb.com/manual/indexes/\">indexing</a>.  Indexing a collection allows for more efficient queries against it.  For instance if we wanted to find tweets which occured on a certain date we could write a filter query for it.  To execute the query Mongo has to scan the entire collection to find tweets that occured on that day. If we create an index for our `tweets` collection by the date we create a natrual ordering on the date field.   Queries on that field will be much faster since there is now a ordering and entire collection scan is no longer needed.   You can have indexes on all sorts of fields, however, *your index must be able to fit into memory or else it defeats the purpose of having fast look ups.* \n",
    "\n",
    "One extremely useful indexing scheme is indexing on the text of the documents in your collection.  We can index the `tweet` field our `tweets` collection as shown from the Mongo shell below,\n",
    "\n",
    "\n",
    "<img src=\"https://github.com/mdh266/TwitterSentimentAnalysis/blob/808d8e9c8db111147ce8f4cbf5806d4a9385b7b2/images/Index1.png?raw=1\">\n",
    "\n",
    "Once the index is created you will see:\n",
    "\n",
    "<img src=\"https://github.com/mdh266/TwitterSentimentAnalysis/blob/808d8e9c8db111147ce8f4cbf5806d4a9385b7b2/images/Index2.png?raw=1\">\n",
    "\n",
    "Notice that before creating the above index we actually had one index, but after we have two.  The reason is that we have index before indexing our collection is because every collection is by default indexed on the `_id` field.  This also shows us that collections can have multiple indices.   \n",
    "\n",
    "We can now search all our tweets for the phrase \"obama\" relatively quickly using the query format:\n",
    "    \n",
    "        {\"$text\": {\"$search\": phrase_to_search}}\n",
    "        \n",
    "We note that the search capabilities ignore stop words, capitilization and punctuation.  We show the results below."
   ]
  },
  {
   "cell_type": "code",
   "execution_count": 70,
   "metadata": {},
   "outputs": [
    {
     "name": "stdout",
     "output_type": "stream",
     "text": [
      "Number of tweets with obama is great:  448\n"
     ]
    },
    {
     "name": "stderr",
     "output_type": "stream",
     "text": [
      "/Users/mukeharmon/miniconda/lib/python3.6/site-packages/ipykernel_launcher.py:8: DeprecationWarning: count is deprecated. Use Collection.count_documents instead.\n",
      "  \n"
     ]
    }
   ],
   "source": [
    "search_query = {\"$text\": {\"$search\":\"obama\"} }\n",
    "projection   = {\"_id\":0, \"user\":1, \"tweet\":1}\n",
    "\n",
    "# sort the results based on the timestamp\n",
    "results = db.tweets.find(search_query, projection)\\\n",
    "                       .sort('timestamp', pymongo.ASCENDING)\n",
    "\n",
    "print(\"Number of tweets with obama is great: \", results.count())"
   ]
  },
  {
   "cell_type": "code",
   "execution_count": 71,
   "metadata": {},
   "outputs": [
    {
     "name": "stdout",
     "output_type": "stream",
     "text": [
      "Document = {'user': 'brasten', 'tweet': \"@dezine it's also amusing how many people who DID complain about Bush's spending are suddenly supportive of Obama's!  #tlot\"}\n",
      "\n",
      "Document = {'user': 'haveyoumettony', 'tweet': '@GrantACummings Nah. Obama had UNC as his champ, Izzo should get a $479 billion bonus! '}\n",
      "\n"
     ]
    }
   ],
   "source": [
    "for res in results.limit(2):\n",
    "    print(\"Document = {}\".format(res) + \"\\n\")"
   ]
  },
  {
   "cell_type": "markdown",
   "metadata": {
    "collapsed": true
   },
   "source": [
    "## Next Steps <a class=\"anchor\" id=\"bullet7\"></a>\n",
    "-------------------\n",
    "\n",
    "In this blog post we went over how to perform ETL operations on text data using PySpark and MongoDB.  We then showed how one can explore the loaded data in the Mongo database using Compass and PyMongo.  Spark is a great platform from doing batch ETL work on both structured and unstructed data.  MongoDB is a document based NoSQL database that is fast, easy to use, allows for flexible schemas and perfect for working with text data.  PySpark and MongoDB work well together allowing for fast, flexible ETL pipelines on large semi-structured data like those coming from tweets.  In the next blog post will be looking into using PySpark to model the sentiment of these tweets using PySpark!"
   ]
  }
 ],
 "metadata": {
  "kernelspec": {
   "display_name": "Python 3",
   "language": "python",
   "name": "python3"
  },
  "language_info": {
   "codemirror_mode": {
    "name": "ipython",
    "version": 3
   },
   "file_extension": ".py",
   "mimetype": "text/x-python",
   "name": "python",
   "nbconvert_exporter": "python",
   "pygments_lexer": "ipython3",
   "version": "3.6.7"
  }
 },
 "nbformat": 4,
 "nbformat_minor": 2
}
